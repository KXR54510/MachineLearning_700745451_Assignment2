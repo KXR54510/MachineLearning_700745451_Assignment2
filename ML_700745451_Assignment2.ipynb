{
 "cells": [
  {
   "cell_type": "code",
   "execution_count": 53,
   "id": "a957205f",
   "metadata": {},
   "outputs": [
    {
     "name": "stdout",
     "output_type": "stream",
     "text": [
      "*\n",
      "**\n",
      "***\n",
      "****\n",
      "*****\n",
      "****\n",
      "***\n",
      "**\n",
      "*\n"
     ]
    }
   ],
   "source": [
    "#intialzie program vairables\n",
    "s = \"\"\n",
    "for x in range(9):\n",
    "    #for first five iteration append * \n",
    "    if (x<5):\n",
    "        s = s + \"*\"\n",
    "        \n",
    "    #rest iterantion remove a * at the end\n",
    "    else:\n",
    "        s = s[:-1]\n",
    "    print(s)\n"
   ]
  },
  {
   "cell_type": "code",
   "execution_count": 50,
   "id": "becad147",
   "metadata": {},
   "outputs": [
    {
     "name": "stdout",
     "output_type": "stream",
     "text": [
      "20\n",
      "40\n",
      "60\n",
      "80\n",
      "100\n"
     ]
    }
   ],
   "source": [
    "my_list = [10, 20, 30, 40, 50, 60, 70, 80, 90, 100]\n",
    "\n",
    "#loop through the idexes of the list\n",
    "for i in range(len(my_list)):\n",
    "    \n",
    "    #print only values at odd indexes\n",
    "    if (i%2 != 0):\n",
    "        print(my_list[i])"
   ]
  },
  {
   "cell_type": "code",
   "execution_count": 35,
   "id": "6be5eb54",
   "metadata": {},
   "outputs": [
    {
     "name": "stdout",
     "output_type": "stream",
     "text": [
      "[23, 'Python', 23.98]\n",
      "[<class 'int'>, <class 'str'>, <class 'float'>]\n"
     ]
    }
   ],
   "source": [
    "#given list\n",
    "x = [23, 'Python', 23.98]\n",
    "#create an empty list to store the type values\n",
    "type_x_list = []\n",
    "\n",
    "#loop through the given list and append the type of each list value to new list\n",
    "for i in x:\n",
    "    type_x_list.append(type(i))\n",
    "    \n",
    "print(x)\n",
    "print(type_x_list)\n"
   ]
  },
  {
   "cell_type": "code",
   "execution_count": 51,
   "id": "3671f128",
   "metadata": {},
   "outputs": [
    {
     "name": "stdout",
     "output_type": "stream",
     "text": [
      "Unique List: [1, 2, 3, 4, 5]\n"
     ]
    }
   ],
   "source": [
    "#sample input list\n",
    "sample_list =  [1,2,3,3,3,3,4,5]\n",
    "\n",
    "#create a fuction which take a list as input and returns a output list\n",
    "def getUniqueList(input_list):\n",
    "    #type cast list to set to get the unique values\n",
    "    output_list = list(set(input_list))\n",
    "    return output_list\n",
    "\n",
    "unique_list = getUniqueList(sample_list)\n",
    "print(\"Unique List:\",unique_list )"
   ]
  },
  {
   "cell_type": "code",
   "execution_count": 52,
   "id": "52fbaed0",
   "metadata": {},
   "outputs": [
    {
     "name": "stdout",
     "output_type": "stream",
     "text": [
      "No. of Upper Case Characters: 3\n",
      "No. of Lower Case Characters: 12\n"
     ]
    }
   ],
   "source": [
    "given_string = \"The quick Brow Fox\"\n",
    "#create a function that gets the input string and returns the case count\n",
    "def getCaseCount(input_str):\n",
    "    lowerCount = 0\n",
    "    upperCount = 0\n",
    "    #loop through the chars in the input sting\n",
    "    for x in given_string:\n",
    "        #ignore space between words\n",
    "        if (x != \" \"):\n",
    "            if(x.islower()):\n",
    "                lowerCount += 1\n",
    "            else:\n",
    "                upperCount += 1\n",
    "    return lowerCount,upperCount\n",
    "\n",
    "lowerCaseCount,upperCaseCount = getCaseCount(given_string)\n",
    "print(\"No. of Upper Case Characters:\",upperCaseCount)\n",
    "print(\"No. of Lower Case Characters:\",lowerCaseCount)"
   ]
  }
 ],
 "metadata": {
  "kernelspec": {
   "display_name": "Python 3 (ipykernel)",
   "language": "python",
   "name": "python3"
  },
  "language_info": {
   "codemirror_mode": {
    "name": "ipython",
    "version": 3
   },
   "file_extension": ".py",
   "mimetype": "text/x-python",
   "name": "python",
   "nbconvert_exporter": "python",
   "pygments_lexer": "ipython3",
   "version": "3.9.13"
  }
 },
 "nbformat": 4,
 "nbformat_minor": 5
}
